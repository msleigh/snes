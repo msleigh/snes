{
 "cells": [
  {
   "cell_type": "markdown",
   "id": "d9c66bfd",
   "metadata": {},
   "source": [
    "# SNES verification"
   ]
  },
  {
   "cell_type": "markdown",
   "id": "7cea2ec4",
   "metadata": {},
   "source": [
    "Each test problem is a critical assembly and should have $k_\\mathrm{eff} = 1$.\n",
    "\n",
    "Each problem is run using a diamond-difference code version (yellow circles) and a linear-discontinuous finite-element version (blue diamonds). "
   ]
  },
  {
   "cell_type": "code",
   "execution_count": null,
   "id": "a2da3e57",
   "metadata": {},
   "outputs": [],
   "source": [
    "import matplotlib.pyplot as plt\n",
    "plt.rcParams[\"figure.figsize\"] = (20,10)"
   ]
  },
  {
   "cell_type": "code",
   "execution_count": null,
   "id": "c1d7d57e",
   "metadata": {},
   "outputs": [],
   "source": [
    "%%bash\n",
    "make clobber > /dev/null\n",
    "make tests > /dev/null\n",
    "grep 'K[ ]EFF' qa/*.outs | tr -s ' ' | cut -d' ' -f4  > /tmp/keffs"
   ]
  },
  {
   "cell_type": "code",
   "execution_count": null,
   "id": "2c981bae",
   "metadata": {},
   "outputs": [],
   "source": [
    "%%bash\n",
    "make clobber > /dev/null\n",
    "make testl > /dev/null\n",
    "# Read the linear-discontinuous results\n",
    "grep 'K[ ]EFF' qa/*.outl | tr -s ' ' | cut -d' ' -f4 > /tmp/keffl"
   ]
  },
  {
   "cell_type": "code",
   "execution_count": null,
   "id": "93f0b850-fc44-4483-9075-12e3a7c0d76e",
   "metadata": {},
   "outputs": [],
   "source": [
    "with open(\"/tmp/keffs\", \"r\", encoding=\"utf-8\") as f:\n",
    "    keffs = f.read()\n",
    "with open(\"/tmp/keffl\", \"r\", encoding=\"utf-8\") as f:\n",
    "    keffl = f.read()"
   ]
  },
  {
   "cell_type": "code",
   "execution_count": null,
   "id": "5537df28",
   "metadata": {},
   "outputs": [],
   "source": [
    "snes = [float(s) for s in keffs.split()]\n",
    "snel = [float(s) for s in keffl.split()]\n",
    "n = len(snes)\n",
    "x = range(1, n+1)\n",
    "xc = [x for x in range(n+2)] # Critical curve\n",
    "yc = [1 for i in xc]         # Critical curve\n",
    "plt.plot(x, snes, 'o', color='orange', markersize=26, label=\"Diamond-difference\")\n",
    "plt.plot(x, snel, 'd', color='indigo', markersize=18, label=\"Linear discontinuous\")\n",
    "plt.plot(xc, yc, 'k--', label=\"Critical ($k_\\mathrm{eff}=1$)\")\n",
    "plt.xlim([0.5, n+0.5])\n",
    "plt.ylim([0.5, 1.1])\n",
    "plt.xlabel(\"Test problem number\", fontsize=20)\n",
    "plt.ylabel(\"$k_\\mathrm{eff}$\", fontsize=20)\n",
    "plt.title(\"$k_\\mathrm{eff}$ results\", fontsize=30)\n",
    "plt.legend(fontsize=18, shadow=True, borderpad=1.0, labelspacing=1.2)\n",
    "plt.grid()\n",
    "plt.xticks(x)\n",
    "plt.show()"
   ]
  },
  {
   "cell_type": "code",
   "execution_count": null,
   "id": "f74ef6a0-8934-4404-81b6-ddd418959ff1",
   "metadata": {},
   "outputs": [],
   "source": []
  }
 ],
 "metadata": {
  "kernelspec": {
   "display_name": "Python 3 (ipykernel)",
   "language": "python",
   "name": "python3"
  },
  "language_info": {
   "codemirror_mode": {
    "name": "ipython",
    "version": 3
   },
   "file_extension": ".py",
   "mimetype": "text/x-python",
   "name": "python",
   "nbconvert_exporter": "python",
   "pygments_lexer": "ipython3",
   "version": "3.11.11"
  }
 },
 "nbformat": 4,
 "nbformat_minor": 5
}
